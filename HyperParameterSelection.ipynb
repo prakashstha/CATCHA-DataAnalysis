{
 "cells": [
  {
   "cell_type": "code",
   "execution_count": 241,
   "metadata": {
    "collapsed": false
   },
   "outputs": [],
   "source": [
    "import pandas as pd\n",
    "from imblearn.over_sampling import SMOTE\n",
    "from sklearn.preprocessing import StandardScaler\n",
    "from sklearn.model_selection import train_test_split\n",
    "\n",
    "from sklearn.model_selection import GridSearchCV\n",
    "from sklearn.decomposition import PCA\n",
    "import numpy as np\n",
    "from collections import Counter\n",
    "import matplotlib.pyplot as plt\n",
    "from sklearn.ensemble import RandomForestClassifier\n",
    "from sklearn.svm import SVC\n",
    "from sklearn.model_selection import cross_val_score\n",
    "from sklearn.model_selection import RandomizedSearchCV\n",
    "from sklearn.model_selection import GridSearchCV\n",
    "from sklearn import metrics\n",
    "from sklearn.metrics import recall_score, precision_score, roc_auc_score, roc_curve\n",
    "from sklearn.metrics import classification_report\n",
    "# Set random seed to ensure reproducible runs\n",
    "RSEED = 42\n",
    "clf = 1 # 1: RandomForest and 2: SVM"
   ]
  },
  {
   "cell_type": "markdown",
   "metadata": {
    "collapsed": true
   },
   "source": [
    "Hyperparameters Tuning for RandomForestClassifier"
   ]
  },
  {
   "cell_type": "code",
   "execution_count": 242,
   "metadata": {
    "collapsed": false
   },
   "outputs": [],
   "source": [
    "# Load dataset\n",
    "df = pd.read_csv('../../DATASET/features_all.csv')\n",
    "columnHeads = list(df.columns.values)\n",
    "featureHeads = list(df.columns.values[1:64])\n",
    "clsHeads = list(df.columns.values[64:])\n",
    "X_raw = df.loc[:, columnHeads]\n",
    "y = df.cls_edu_bachelor.values\n",
    "# For binary classification [0, 1], replace class '2' with 0.\n",
    "y[y == 2] = 0\n",
    "y[y == 3] = -1"
   ]
  },
  {
   "cell_type": "code",
   "execution_count": 243,
   "metadata": {
    "collapsed": false,
    "scrolled": true
   },
   "outputs": [
    {
     "name": "stdout",
     "output_type": "stream",
     "text": [
      "['cls_gender', 'cls_age2', 'cls_age3', 'cls_edu_highschool', 'cls_edu_bachelor', 'cls_edu_graduate', 'cls_edu_all', 'cls_prof_cs', 'cls_prof_business', 'cls_prof_all']\n"
     ]
    }
   ],
   "source": [
    "print(clsHeads)"
   ]
  },
  {
   "cell_type": "code",
   "execution_count": 244,
   "metadata": {
    "collapsed": false
   },
   "outputs": [
    {
     "name": "stdout",
     "output_type": "stream",
     "text": [
      "original dataset Counter({1: 4930, 0: 3690})\n",
      "resampled dataset Counter({1: 4930, 0: 4930})\n"
     ]
    }
   ],
   "source": [
    "sm = SMOTE(random_state=42)\n",
    "print('original dataset %s' %Counter(y))\n",
    "X_res, y_res = sm.fit_sample(X_raw, y)\n",
    "print('resampled dataset %s' %Counter(y_res))\n",
    "y_res = y_res.flatten()"
   ]
  },
  {
   "cell_type": "code",
   "execution_count": 245,
   "metadata": {
    "collapsed": false
   },
   "outputs": [],
   "source": [
    "# split dataset to training (70%) and testing (30%) datasets\n",
    "train_raw, test_raw, train_labels, test_labels = train_test_split(X_res, y_res, \n",
    "                                                          stratify = y_res,\n",
    "                                                          test_size = 0.3, \n",
    "                                                          random_state = RSEED)"
   ]
  },
  {
   "cell_type": "code",
   "execution_count": 246,
   "metadata": {
    "collapsed": true
   },
   "outputs": [],
   "source": [
    "# Feature normalization/scaling\n",
    "sc = StandardScaler()\n",
    "sc.fit(train_raw)\n",
    "train = sc.transform(train_raw)\n",
    "test = sc.transform(test_raw)"
   ]
  },
  {
   "cell_type": "code",
   "execution_count": 247,
   "metadata": {
    "collapsed": true
   },
   "outputs": [],
   "source": [
    "optimal_dimen = 35\n",
    "pca = PCA(n_components = optimal_dimen)\n",
    "pca.fit(train)\n",
    "train = pca.transform(train)\n",
    "test = pca.transform(test)"
   ]
  },
  {
   "cell_type": "code",
   "execution_count": 248,
   "metadata": {
    "collapsed": true
   },
   "outputs": [],
   "source": [
    "if clf == 2:\n",
    "    param_grid = [{'C': [1, 10, 100, 1000], 'kernel': ['linear']},\n",
    "                  {'C': [1, 10, 100, 1000], 'gamma': [0.001, 0.0001], 'kernel': ['rbf']}]\n",
    "    estimator = SVC(probability = True)\n",
    "    rs = GridSearchCV(estimator, param_grid, cv=5, scoring='f1_micro')\n",
    "else:\n",
    "    # Number of trees in random forest\n",
    "    n_estimators = [int(x) for x in np.linspace(start = 100, stop = 1000, num = 10)]\n",
    "    n_estimators.append(10)\n",
    "    n_estimators.append(50)\n",
    "    max_depth = [None] + [int(x) for x in np.linspace(3, 64, 30)]\n",
    "    max_features = ['auto', 'sqrt', 'log2', None] + list(np.arange(0.5, 1, 0.1))\n",
    "    max_leaf_nodes = [None] + list(np.linspace(10, 500, 50).astype(int))\n",
    "    min_samples_split = np.linspace(0.1, 1.0, 10, endpoint=True)\n",
    "    bootstrap = [True, False]\n",
    "    # Hyperparameter grid\n",
    "    param_grid = {\n",
    "        'n_estimators': n_estimators,\n",
    "        'max_depth': max_depth,\n",
    "        'max_features': max_features,\n",
    "        'max_leaf_nodes': max_leaf_nodes,\n",
    "        'min_samples_split': min_samples_split,\n",
    "        'bootstrap': [True, False]\n",
    "    }\n",
    "    estimator = RandomForestClassifier(class_weight='balanced', random_state = RSEED)\n",
    "    rs = RandomizedSearchCV(estimator, param_grid, n_jobs = -1, \n",
    "                            scoring = 'f1_micro', cv = 5, \n",
    "                            n_iter = 15, verbose = 1, random_state=RSEED)"
   ]
  },
  {
   "cell_type": "code",
   "execution_count": 249,
   "metadata": {
    "collapsed": false,
    "scrolled": true
   },
   "outputs": [
    {
     "name": "stdout",
     "output_type": "stream",
     "text": [
      "Fitting 5 folds for each of 15 candidates, totalling 75 fits\n"
     ]
    },
    {
     "name": "stderr",
     "output_type": "stream",
     "text": [
      "[Parallel(n_jobs=-1)]: Done  34 tasks      | elapsed:   15.5s\n",
      "[Parallel(n_jobs=-1)]: Done  75 out of  75 | elapsed:  1.1min finished\n"
     ]
    },
    {
     "data": {
      "text/plain": [
       "RandomizedSearchCV(cv=5, error_score='raise',\n",
       "          estimator=RandomForestClassifier(bootstrap=True, class_weight='balanced',\n",
       "            criterion='gini', max_depth=None, max_features='auto',\n",
       "            max_leaf_nodes=None, min_impurity_decrease=0.0,\n",
       "            min_impurity_split=None, min_samples_leaf=1,\n",
       "            min_samples_split=2, min_weight_fraction_leaf=0.0,\n",
       "            n_estimators=10, n_jobs=1, oob_score=False, random_state=42,\n",
       "            verbose=0, warm_start=False),\n",
       "          fit_params=None, iid=True, n_iter=15, n_jobs=-1,\n",
       "          param_distributions={'n_estimators': [100, 200, 300, 400, 500, 600, 700, 800, 900, 1000, 10, 50], 'max_depth': [None, 3, 5, 7, 9, 11, 13, 15, 17, 19, 21, 24, 26, 28, 30, 32, 34, 36, 38, 40, 42, 45, 47, 49, 51, 53, 55, 57, 59, 61, 64], 'max_features': ['auto', 'sqrt', 'log2', None, 0.5, 0.6, 0.7, 0.7...mples_split': array([0.1, 0.2, 0.3, 0.4, 0.5, 0.6, 0.7, 0.8, 0.9, 1. ]), 'bootstrap': [True, False]},\n",
       "          pre_dispatch='2*n_jobs', random_state=42, refit=True,\n",
       "          return_train_score='warn', scoring='f1_micro', verbose=1)"
      ]
     },
     "execution_count": 249,
     "metadata": {},
     "output_type": "execute_result"
    }
   ],
   "source": [
    "# Fit \n",
    "rs.fit(train, train_labels)"
   ]
  },
  {
   "cell_type": "code",
   "execution_count": 250,
   "metadata": {
    "collapsed": false,
    "scrolled": true
   },
   "outputs": [],
   "source": [
    "if clf == 2:\n",
    "    print(\"Best parameters set found on development set:\")\n",
    "    print()\n",
    "    print(rs.best_params_)\n",
    "    print()\n",
    "    print(\"Grid scores on development set:\")\n",
    "    print()\n",
    "    means = rs.cv_results_['mean_test_score']\n",
    "    stds = rs.cv_results_['std_test_score']\n",
    "    for mean, std, params in zip(means, stds, rs.cv_results_['params']):\n",
    "        print(\"%0.3f (+/-%0.03f) for %r\"\n",
    "              % (mean, std * 2, params))"
   ]
  },
  {
   "cell_type": "code",
   "execution_count": 251,
   "metadata": {
    "collapsed": false
   },
   "outputs": [
    {
     "name": "stdout",
     "output_type": "stream",
     "text": [
      "{'n_estimators': 400, 'min_samples_split': 0.30000000000000004, 'max_leaf_nodes': 170, 'max_features': 'log2', 'max_depth': 40, 'bootstrap': False}\n"
     ]
    }
   ],
   "source": [
    "print(rs.best_params_)\n",
    "best_model = rs.best_estimator_\n",
    "\n",
    "train_rf_predictions = best_model.predict(train)\n",
    "train_rf_probs = best_model.predict_proba(train)[:, 1]\n",
    "\n",
    "rf_predictions = best_model.predict(test)\n",
    "rf_probs = best_model.predict_proba(test)[:, 1]"
   ]
  },
  {
   "cell_type": "code",
   "execution_count": 235,
   "metadata": {
    "collapsed": false,
    "scrolled": false
   },
   "outputs": [
    {
     "name": "stdout",
     "output_type": "stream",
     "text": [
      "{'C': 1, 'kernel': 'linear'}\n",
      "<class 'dict'>\n",
      "['cls_gender_SVM', 1, 'linear']\n"
     ]
    },
    {
     "data": {
      "text/plain": [
       "25"
      ]
     },
     "execution_count": 235,
     "metadata": {},
     "output_type": "execute_result"
    }
   ],
   "source": [
    "print(rs.best_params_)\n",
    "print(type(rs.best_params_))\n",
    "dicVar = rs.best_params_\n",
    "import csv\n",
    "d = list()\n",
    "d.append('cls_gender_SVM')\n",
    "w = csv.writer(open(\"best_params.csv\", \"a\"))\n",
    "for key, val in dicVar.items():\n",
    "    d.append(val)\n",
    "print(d)\n",
    "w.writerow(d)"
   ]
  },
  {
   "cell_type": "code",
   "execution_count": 236,
   "metadata": {
    "collapsed": false,
    "scrolled": true
   },
   "outputs": [
    {
     "name": "stdout",
     "output_type": "stream",
     "text": [
      "             precision    recall  f1-score   support\n",
      "\n",
      "          0       1.00      1.00      1.00      1479\n",
      "          1       1.00      1.00      1.00      1479\n",
      "\n",
      "avg / total       1.00      1.00      1.00      2958\n",
      "\n",
      "\n"
     ]
    }
   ],
   "source": [
    "print(classification_report(test_labels, rf_predictions))\n",
    "print()"
   ]
  },
  {
   "cell_type": "code",
   "execution_count": 237,
   "metadata": {
    "collapsed": true
   },
   "outputs": [],
   "source": [
    "d_train = {'train_labels': train_labels, 'rf_train_predictions': train_rf_predictions, 'rf_train_probs': train_rf_probs}\n",
    "d_test = {'test_labels': test_labels, 'rf_test_predictions': rf_predictions, 'rf_test_probs': rf_probs}"
   ]
  },
  {
   "cell_type": "code",
   "execution_count": 238,
   "metadata": {
    "collapsed": false
   },
   "outputs": [],
   "source": [
    "df_train = pd.DataFrame(data=d_train)\n",
    "df_test = pd.DataFrame(data = d_test)\n",
    "df_train.to_csv('rf_edu_all_train.csv', index=False)\n",
    "df_test.to_csv('rf_edu_all_test.csv', index = False)"
   ]
  },
  {
   "cell_type": "code",
   "execution_count": 239,
   "metadata": {
    "collapsed": true
   },
   "outputs": [],
   "source": [
    "def evaluate_model(predictions, probs, train_predictions, train_probs):\n",
    "    #Compare machine learning model to baseline performance. Computes statistics and shows ROC curve.\n",
    "    \n",
    "    baseline = {}\n",
    "    \n",
    "    baseline['recall'] = recall_score(test_labels, [1 for _ in range(len(test_labels))])\n",
    "    baseline['precision'] = precision_score(test_labels, [1 for _ in range(len(test_labels))])\n",
    "    baseline['roc'] = 0.5\n",
    "    \n",
    "    results = {}\n",
    "    \n",
    "    results['recall'] = recall_score(test_labels, predictions)\n",
    "    results['precision'] = precision_score(test_labels, predictions)\n",
    "    results['roc'] = roc_auc_score(test_labels, probs)\n",
    "    \n",
    "    train_results = {}\n",
    "    train_results['recall'] = recall_score(train_labels, train_predictions)\n",
    "    train_results['precision'] = precision_score(train_labels, train_predictions)\n",
    "    train_results['roc'] = roc_auc_score(train_labels, train_probs)\n",
    "    \n",
    "    for metric in ['recall', 'precision', 'roc']:\n",
    "        print(metric.capitalize() + ' Baseline: ' + str(round(baseline[metric], 2)) + ' Test: ' + str(round(results[metric], 2)) + ' Train: ' + str(round(train_results[metric], 2)))\n",
    "    \n",
    "    # Calculate false positive rates and true positive rates\n",
    "    base_fpr, base_tpr, _ = roc_curve(test_labels, [1 for _ in range(len(test_labels))])\n",
    "    model_fpr, model_tpr, _ = roc_curve(test_labels, probs)\n",
    "\n",
    "    plt.figure(figsize = (8, 6))\n",
    "    plt.rcParams['font.size'] = 16\n",
    "    \n",
    "    # Plot both curves\n",
    "    plt.plot(base_fpr, base_tpr, 'b', label = 'baseline')\n",
    "    plt.plot(model_fpr, model_tpr, 'r', label = 'model')\n",
    "    plt.legend();\n",
    "    plt.xlabel('False Positive Rate'); plt.ylabel('True Positive Rate'); plt.title('ROC Curves');\n",
    "    plt.show()"
   ]
  },
  {
   "cell_type": "code",
   "execution_count": 240,
   "metadata": {
    "collapsed": false,
    "scrolled": true
   },
   "outputs": [
    {
     "name": "stdout",
     "output_type": "stream",
     "text": [
      "Recall Baseline: 1.0 Test: 1.0 Train: 1.0\n",
      "Precision Baseline: 0.5 Test: 1.0 Train: 1.0\n",
      "Roc Baseline: 0.5 Test: 1.0 Train: 1.0\n"
     ]
    },
    {
     "data": {
      "image/png": "[encoded data removed]",
      "text/plain": [
       "<matplotlib.figure.Figure at 0x2129d7782e8>"
      ]
     },
     "metadata": {},
     "output_type": "display_data"
    }
   ],
   "source": [
    "evaluate_model(rf_predictions, rf_probs, train_rf_predictions, train_rf_probs)"
   ]
  },
  {
   "cell_type": "code",
   "execution_count": null,
   "metadata": {
    "collapsed": true
   },
   "outputs": [],
   "source": []
  }
 ],
 "metadata": {
  "kernelspec": {
   "display_name": "Python 3",
   "language": "python",
   "name": "python3"
  },
  "language_info": {
   "codemirror_mode": {
    "name": "ipython",
    "version": 3
   },
   "file_extension": ".py",
   "mimetype": "text/x-python",
   "name": "python",
   "nbconvert_exporter": "python",
   "pygments_lexer": "ipython3",
   "version": "3.6.0"
  }
 },
 "nbformat": 4,
 "nbformat_minor": 2
}
