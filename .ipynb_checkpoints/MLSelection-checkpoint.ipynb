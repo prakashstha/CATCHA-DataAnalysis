{
 "cells": [
  {
   "cell_type": "code",
   "execution_count": null,
   "metadata": {
    "collapsed": true
   },
   "outputs": [],
   "source": [
    "import pandas as pd\n",
    "import numpy as np\n",
    "from os import listdir\n",
    "from sklearn.metrics import classification_report\n",
    "import matplotlib.pyplot as plt\n",
    "from sklearn.ensemble import RandomForestClassifier\n",
    "from sklearn.svm import SVC\n",
    "from sklearn.decomposition import PCA\n",
    "from sklearn.metrics import precision_recall_fscore_support\n",
    "from imblearn.over_sampling import SMOTE\n",
    "from collections import Counter\n",
    "from sklearn.preprocessing import StandardScaler\n",
    "from sklearn.metrics import confusion_matrix\n",
    "from sklearn.metrics import make_scorer, accuracy_score, precision_score, recall_score, f1_score"
   ]
  },
  {
   "cell_type": "code",
   "execution_count": 2,
   "metadata": {
    "collapsed": true
   },
   "outputs": [],
   "source": [
    "rootPath = '../../DATASET/RESULTS/features/clustering/'\n",
    "game_types = ['single/', 'merge/']\n",
    "days = ['day1/', 'day2/', 'day3/']"
   ]
  },
  {
   "cell_type": "code",
   "execution_count": 3,
   "metadata": {
    "collapsed": true
   },
   "outputs": [],
   "source": [
    "clsesHead = [\"cls_gender\", \"cls_age2\", \"cls_age3\", \"cls_edu_highschool\", \"cls_edu_bachelor\",\n",
    "                 \"cls_edu_graduate\", \"cls_edu_all\", \"cls_prof_cs\", \"cls_prof_business\", \"cls_prof_all\"]\n",
    "\n",
    "featuresHead = [\"time\", \"time_first_touch\", \"time_first_action\", \"time_between_touches_mean\", \"time_between_touches_std\",\n",
    "     \"time_between_touches_min\", \"time_between_touches_max\", \"speed_touch_mean\", \"speed_touch_std\", \"speed_touch_min\",\n",
    "     \"speed_touch_max\", \"acc_touch_mean\", \"acc_touch_std\", \"acc_touch_min\", \"acc_touch_max\", \"real_distance_to_distance_mean\",\n",
    "     \"real_distance_to_distance_std\", \"real_distance_to_distance_min\", \"real_distance_to_distance_max\",\n",
    "     \"speed_move_mean\", \"speed_move_std\", \"speed_move_min\", \"speed_move_max\", \"acc_move_mean\", \"acc_move_std\",\n",
    "     \"acc_move_min\",\t\"acc_move_max\", \"move_real_distance_to_distance_mean\", \"move_real_distance_to_distance_std\",\n",
    "     \"move_real_distance_to_distance_min\", \"move_real_distance_to_distance_max\", \"distance_click_object_center_mean\",\n",
    "     \"distance_click_object_center_std\", \"distance_click_object_center_min\", \"distance_click_object_center_max\",\n",
    "     \"distance_drop_target_center_mean\", \"distance_drop_target_center_std\", \"distance_drop_target_center_min\",\n",
    "     \"distance_drop_target_center_max\", \"total_distance\", \"dif_time_stamp_mean\", \"dif_time_stamp_std\",\n",
    "     \"dif_time_stamp_min\", \"dif_time_stamp_max\", \"move_silence_mean\", \"move_silence_std\", \"move_silence_min\",\n",
    "     \"move_silence_max\", \"drag_silence_mean\", \"drag_silence_std\", \"drag_silence_min\", \"drag_silence_max\",\n",
    "     \"pause_and_drag_mean\", \"pause_and_drag_std\", \"pause_and_drag_min\", \"pause_and_drag_max\", \"pause_and_drop_mean\",\n",
    "     \"pause_and_drop_std\", \"pause_and_drop_min\", \"pause_and_drop_max\", \"angles_mean\", \"angles_std\", \"angles_min\", \"angles_max\"]"
   ]
  },
  {
   "cell_type": "code",
   "execution_count": 4,
   "metadata": {
    "collapsed": true
   },
   "outputs": [],
   "source": [
    "def prepareData(inRoot, set_of_files):\n",
    "    columnsHead = featuresHead + clsesHead\n",
    "    data = pd.DataFrame(columns=columnsHead)\n",
    "    \n",
    "    cnt = 0\n",
    "    for f in set_of_files:\n",
    "        cnt = cnt + 1\n",
    "        cur_file = inRoot + f\n",
    "        temp_df = pd.read_csv(cur_file)\n",
    "        data = data.append(temp_df)\n",
    "    return data"
   ]
  },
  {
   "cell_type": "code",
   "execution_count": 5,
   "metadata": {
    "collapsed": false
   },
   "outputs": [
    {
     "name": "stdout",
     "output_type": "stream",
     "text": [
      "../../DATASET/RESULTS/features/clustering/day1/single/\n",
      "../../DATASET/RESULTS/features/clustering/day2/single/\n",
      "../../DATASET/RESULTS/features/clustering/day3/single/\n"
     ]
    }
   ],
   "source": [
    "daySelect = days[0]\n",
    "game = game_types[0]\n",
    "data = pd.DataFrame(columns = featuresHead + clsesHead)\n",
    "\n",
    "features = pd.DataFrame(columns=featuresHead)\n",
    "lbls = pd.DataFrame(columns=clsesHead)\n",
    "for d in days:\n",
    "    working_dir = rootPath + d + game\n",
    "    print(working_dir)\n",
    "    files = set([f for f in listdir(working_dir)])\n",
    "    temp_data = prepareData(working_dir, files)\n",
    "    data = data.append(temp_data)\n",
    "\n",
    "data.to_csv('features_all.csv', index = False)"
   ]
  },
  {
   "cell_type": "code",
   "execution_count": 6,
   "metadata": {
    "collapsed": false
   },
   "outputs": [
    {
     "name": "stdout",
     "output_type": "stream",
     "text": [
      "(8620, 64)\n",
      "(8620, 10)\n"
     ]
    }
   ],
   "source": [
    "features = pd.read_csv('features_all.csv')\n",
    "lbls = data.loc[:, list(clsesHead)]\n",
    "\n",
    "# dropping columns with classes\n",
    "features.drop(clsesHead, axis=1, inplace=True)\n",
    "\n",
    "print(features.shape)\n",
    "print(lbls.shape)"
   ]
  },
  {
   "cell_type": "code",
   "execution_count": 7,
   "metadata": {
    "collapsed": false
   },
   "outputs": [
    {
     "name": "stdout",
     "output_type": "stream",
     "text": [
      "original dataset Counter({1.0: 5054, 0.0: 3566})\n",
      "resampled dataset Counter({1.0: 5054, 0.0: 5054})\n"
     ]
    }
   ],
   "source": [
    "y = lbls.cls_gender.values\n",
    "y[y == 2] = 0\n",
    "sm = SMOTE(random_state=42)\n",
    "print('original dataset %s' %Counter(y))\n",
    "X_res, y_res = sm.fit_sample(features, y)\n",
    "print('resampled dataset %s' %Counter(y_res))\n",
    "y_res = y_res.flatten()"
   ]
  },
  {
   "cell_type": "code",
   "execution_count": null,
   "metadata": {
    "collapsed": false,
    "scrolled": true
   },
   "outputs": [],
   "source": [
    "from sklearn.model_selection import cross_val_score\n",
    "from sklearn import svm\n",
    "from sklearn.model_selection import cross_validate\n",
    "from sklearn.metrics import make_scorer\n",
    "score = {'precision' : make_scorer(precision_score),\n",
    "           'recall' : make_scorer(recall_score), \n",
    "           'f1_score' : make_scorer(f1_score)}\n",
    "\n",
    "clf = svm.SVC(kernel='linear', C=1)\n",
    "cv_results = cross_validate(clf, X_res, y_res, scoring=score, cv=3)\n",
    "print(cv_results)\n"
   ]
  },
  {
   "cell_type": "code",
   "execution_count": 33,
   "metadata": {
    "collapsed": true
   },
   "outputs": [],
   "source": [
    " cls_age2 = {'RF': [0.75075684895000527, 0.75980821754272787, 0.7499824350241967], 'GNB': [0.10342394201044665, 0.62201378667446738, 0.1717536750559997], 'SVM': [0.66560423551149484, 0.70956537252777685, 0.68382468905234195], 'MLP': [0.64375119923249113, 0.68851514358496779, 0.6635926819753063], 'LR': [0.58195466012862873, 0.6153917860584347, 0.59546338491157225], 'KNN': [0.32235582560494613, 0.71810025098196995, 0.44150878652646985]}\n",
    " cls_gender = {'RF': [0.72934058623253628, 0.72996130017794747, 0.72604645930639078], 'GNB': [0.26652878331311392, 0.61913259415197264, 0.37085035738560501], 'SVM': [0.61321253864516889, 0.64529745428349705, 0.62778238343283221], 'MLP': [0.62804015184127104, 0.64351328046771017, 0.63459765428853065], 'LR': [0.55129417289555038, 0.55375606979371994, 0.55121655859800089], 'KNN': [0.43254999412984779, 0.64694764098202695, 0.51759565156320608]}\n",
    " cls_edu_highschool = {'RF': [0.83900188024681555, 0.82077801522536953, 0.82501815361747943], 'GNB': [0.91865549111517164, 0.51181284393830118, 0.65722818721769438], 'SVM': [0.79113053150075485, 0.70651990807388487, 0.74420241790095099], 'MLP': [0.74736447657636185, 0.6968662474316103, 0.71935882905467019], 'LR': [0.67785360557188634, 0.60065400116788648, 0.63558508922291446], 'KNN': [0.93297476232091303, 0.56376907822094657, 0.70271867759346018]}\n",
    " cls_edu_bachelor = {'RF': [0.65618661257606492, 0.69555182437564977, 0.66892970572600929], 'GNB': [0.091277890466531425, 0.55102169727763661, 0.15283128160602216], 'SVM': [0.5602434077079107, 0.64870424454782083, 0.59689481574309411], 'MLP': [0.60446247464503045, 0.64834963111769539, 0.62379704864345165], 'LR': [0.52434077079107511, 0.57677800953643332, 0.54614749318816358], 'KNN': [0.3839756592292089, 0.65408792531956161, 0.47863904656614553]}\n",
    " cls_edu_graduate = {'RF': [0.92522577233103542, 0.92997110518119164, 0.92318393685913003], 'GNB': [0.9326133420870264, 0.56821782203431737, 0.70582900964387674], 'SVM': [0.90534832403253451, 0.80526947369299273, 0.85116283883196109], 'MLP': [0.88752288725972939, 0.81289693231424442, 0.84701488346859066], 'LR': [0.73772075719444141, 0.67200787901642212, 0.70284926773826395], 'KNN': [0.98663165189480961, 0.5888058343972753, 0.73733259512639382]}\n"
   ]
  },
  {
   "cell_type": "code",
   "execution_count": 30,
   "metadata": {
    "collapsed": false
   },
   "outputs": [
    {
     "name": "stdout",
     "output_type": "stream",
     "text": [
      "{'RF': [0.7293405862325363, 0.7299613001779475, 0.7260464593063908], 'GNB': [0.2665287833131139, 0.6191325941519726, 0.370850357385605], 'SVM': [0.6132125386451689, 0.645297454283497, 0.6277823834328322], 'MLP': [0.628040151841271, 0.6435132804677102, 0.6345976542885307], 'LR': [0.5512941728955504, 0.5537560697937199, 0.5512165585980009], 'KNN': [0.4325499941298478, 0.646947640982027, 0.5175956515632061]}\n"
     ]
    }
   ],
   "source": [
    "print(cls_gender)"
   ]
  },
  {
   "cell_type": "code",
   "execution_count": 4,
   "metadata": {
    "collapsed": false
   },
   "outputs": [
    {
     "name": "stdout",
     "output_type": "stream",
     "text": [
      "0.7499824350241967\n"
     ]
    }
   ],
   "source": [
    "print(cls_age2.get('RF')[2])"
   ]
  },
  {
   "cell_type": "code",
   "execution_count": null,
   "metadata": {
    "collapsed": true
   },
   "outputs": [],
   "source": [
    "def plotAcc(res_age2, res_gender):\n",
    "    xLabel = ['RF', 'SVM', 'GNB', 'MLP', 'LR', 'KNN']\n",
    "    plt.plot(res)\n",
    "    plt.title('cls_age')\n",
    "    plt.ylabel('Accuracy')\n",
    "    plt.xlabel('Classifier')\n",
    "    plt.xticks(range(len(res)), xLabel, fontsize='12')\n",
    "    plt.show()"
   ]
  },
  {
   "cell_type": "code",
   "execution_count": 27,
   "metadata": {
    "collapsed": false
   },
   "outputs": [
    {
     "name": "stdout",
     "output_type": "stream",
     "text": [
      "0.7271605786496461\n"
     ]
    }
   ],
   "source": [
    "print(cls_gender.get('RF')[2])"
   ]
  },
  {
   "cell_type": "code",
   "execution_count": 34,
   "metadata": {
    "collapsed": false
   },
   "outputs": [],
   "source": [
    "res_gender = [cls_gender.get('RF')[2], cls_gender.get('SVM')[2], cls_gender.get('GNB')[2], cls_gender.get('MLP')[2], cls_gender.get('LR')[2], cls_gender.get('KNN')[2]]\n",
    "res_age2 = [cls_age2.get('RF')[2], cls_age2.get('SVM')[2], cls_age2.get('GNB')[2], cls_age2.get('MLP')[2], cls_age2.get('LR')[2], cls_age2.get('KNN')[2]]\n",
    "res_highschool = [cls_edu_highschool.get('RF')[2], cls_edu_highschool.get('SVM')[2], cls_edu_highschool.get('GNB')[2], cls_edu_highschool.get('MLP')[2], cls_edu_highschool.get('LR')[2], cls_edu_highschool.get('KNN')[2]]"
   ]
  },
  {
   "cell_type": "code",
   "execution_count": 46,
   "metadata": {
    "collapsed": false
   },
   "outputs": [],
   "source": [
    "res = [res_gender, res_age2, res_highschool]"
   ]
  },
  {
   "cell_type": "code",
   "execution_count": 59,
   "metadata": {
    "collapsed": false
   },
   "outputs": [
    {
     "name": "stdout",
     "output_type": "stream",
     "text": [
      "<class 'list'>\n",
      "[[0.7260464593063908, 0.6277823834328322, 0.370850357385605, 0.6345976542885307, 0.5512165585980009, 0.5175956515632061], [0.7499824350241967, 0.683824689052342, 0.1717536750559997, 0.6635926819753063, 0.5954633849115722, 0.44150878652646985], [0.8250181536174794, 0.744202417900951, 0.6572281872176944, 0.7193588290546702, 0.6355850892229145, 0.7027186775934602]]\n",
      "0.7499824350241967\n"
     ]
    }
   ],
   "source": [
    "print(type(res_gender))\n",
    "print(res)\n",
    "print(res[1][0])"
   ]
  },
  {
   "cell_type": "code",
   "execution_count": 62,
   "metadata": {
    "collapsed": false
   },
   "outputs": [
    {
     "data": {
      "image/png": "[encoded data removed]",
      "text/plain": [
       "<matplotlib.figure.Figure at 0x267aa67fd30>"
      ]
     },
     "metadata": {},
     "output_type": "display_data"
    }
   ],
   "source": [
    "# data to plot\n",
    "n_groups = 6\n",
    "\n",
    "\n",
    " \n",
    "# create plot\n",
    "fig, ax = plt.subplots()\n",
    "index = np.arange(n_groups)\n",
    "bar_width = 0.15\n",
    "opacity = 1\n",
    " \n",
    "rects1 = plt.bar(index, list(res_gender), bar_width,\n",
    "alpha=opacity,\n",
    "color='b',\n",
    "label='Gender')\n",
    " \n",
    "rects2 = plt.bar(index + bar_width, res_age2, bar_width,\n",
    "alpha=opacity,\n",
    "color='g',\n",
    "label='Age2')\n",
    "\n",
    "rects3 = plt.bar(index + 2*bar_width, res_highschool, bar_width,\n",
    "alpha=opacity,\n",
    "color='r',\n",
    "label='Highschool')\n",
    " \n",
    "xLabel = ['RF', 'SVM', 'GNB', 'MLP', 'LR', 'KNN']\n",
    "plt.xlabel('Classifiers')\n",
    "plt.ylabel('Accuracy')\n",
    "plt.title('Accuracy by Attributes')\n",
    "plt.xticks(index + bar_width, xLabel)\n",
    "plt.legend()\n",
    " \n",
    "plt.tight_layout()\n",
    "plt.show()"
   ]
  },
  {
   "cell_type": "code",
   "execution_count": null,
   "metadata": {
    "collapsed": true
   },
   "outputs": [],
   "source": []
  }
 ],
 "metadata": {
  "kernelspec": {
   "display_name": "Python 3",
   "language": "python",
   "name": "python3"
  },
  "language_info": {
   "codemirror_mode": {
    "name": "ipython",
    "version": 3
   },
   "file_extension": ".py",
   "mimetype": "text/x-python",
   "name": "python",
   "nbconvert_exporter": "python",
   "pygments_lexer": "ipython3",
   "version": "3.6.0"
  }
 },
 "nbformat": 4,
 "nbformat_minor": 2
}
